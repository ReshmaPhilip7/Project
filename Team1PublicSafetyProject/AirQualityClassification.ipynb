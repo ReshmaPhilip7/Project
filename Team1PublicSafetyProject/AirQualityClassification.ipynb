{
 "cells": [
  {
   "cell_type": "code",
   "execution_count": 77,
   "id": "b3859561-81f1-4167-bc86-dd814db6712a",
   "metadata": {},
   "outputs": [],
   "source": [
    "import numpy as np\n",
    "import pandas as pd\n",
    "import seaborn as sns\n",
    "import matplotlib.pyplot as plt"
   ]
  },
  {
   "cell_type": "code",
   "execution_count": 78,
   "id": "d333857b-5ea0-4ee3-91c1-fa5a91f46b2e",
   "metadata": {},
   "outputs": [],
   "source": [
    "data = pd.read_csv(r\"C:\\Users\\kevin\\Downloads\\air_quality_data.csv\")"
   ]
  },
  {
   "cell_type": "code",
   "execution_count": 79,
   "id": "3eb275f1-9d08-4fed-b06a-0fc4655d33c5",
   "metadata": {},
   "outputs": [
    {
     "data": {
      "text/html": [
       "<div>\n",
       "<style scoped>\n",
       "    .dataframe tbody tr th:only-of-type {\n",
       "        vertical-align: middle;\n",
       "    }\n",
       "\n",
       "    .dataframe tbody tr th {\n",
       "        vertical-align: top;\n",
       "    }\n",
       "\n",
       "    .dataframe thead th {\n",
       "        text-align: right;\n",
       "    }\n",
       "</style>\n",
       "<table border=\"1\" class=\"dataframe\">\n",
       "  <thead>\n",
       "    <tr style=\"text-align: right;\">\n",
       "      <th></th>\n",
       "      <th>City</th>\n",
       "      <th>Date</th>\n",
       "      <th>PM2.5</th>\n",
       "      <th>PM10</th>\n",
       "      <th>NO2</th>\n",
       "      <th>SO2</th>\n",
       "      <th>O3</th>\n",
       "      <th>AQI</th>\n",
       "      <th>AQI_Bucket</th>\n",
       "    </tr>\n",
       "  </thead>\n",
       "  <tbody>\n",
       "    <tr>\n",
       "      <th>0</th>\n",
       "      <td>Delhi</td>\n",
       "      <td>2022-01-13</td>\n",
       "      <td>230.50</td>\n",
       "      <td>355.43</td>\n",
       "      <td>61.28</td>\n",
       "      <td>24.28</td>\n",
       "      <td>75.14</td>\n",
       "      <td>370.0</td>\n",
       "      <td>Very Poor</td>\n",
       "    </tr>\n",
       "    <tr>\n",
       "      <th>1</th>\n",
       "      <td>Delhi</td>\n",
       "      <td>2022-01-14</td>\n",
       "      <td>191.47</td>\n",
       "      <td>308.74</td>\n",
       "      <td>54.37</td>\n",
       "      <td>22.47</td>\n",
       "      <td>64.80</td>\n",
       "      <td>365.0</td>\n",
       "      <td>Very Poor</td>\n",
       "    </tr>\n",
       "    <tr>\n",
       "      <th>2</th>\n",
       "      <td>Delhi</td>\n",
       "      <td>2022-01-15</td>\n",
       "      <td>177.71</td>\n",
       "      <td>309.85</td>\n",
       "      <td>52.51</td>\n",
       "      <td>19.12</td>\n",
       "      <td>59.73</td>\n",
       "      <td>352.0</td>\n",
       "      <td>Very Poor</td>\n",
       "    </tr>\n",
       "    <tr>\n",
       "      <th>3</th>\n",
       "      <td>Delhi</td>\n",
       "      <td>2022-01-16</td>\n",
       "      <td>133.56</td>\n",
       "      <td>231.04</td>\n",
       "      <td>46.86</td>\n",
       "      <td>19.06</td>\n",
       "      <td>54.00</td>\n",
       "      <td>278.0</td>\n",
       "      <td>Poor</td>\n",
       "    </tr>\n",
       "    <tr>\n",
       "      <th>4</th>\n",
       "      <td>Delhi</td>\n",
       "      <td>2022-01-17</td>\n",
       "      <td>235.06</td>\n",
       "      <td>353.55</td>\n",
       "      <td>47.86</td>\n",
       "      <td>14.48</td>\n",
       "      <td>64.10</td>\n",
       "      <td>350.0</td>\n",
       "      <td>Very Poor</td>\n",
       "    </tr>\n",
       "  </tbody>\n",
       "</table>\n",
       "</div>"
      ],
      "text/plain": [
       "    City        Date   PM2.5    PM10    NO2    SO2     O3    AQI AQI_Bucket\n",
       "0  Delhi  2022-01-13  230.50  355.43  61.28  24.28  75.14  370.0  Very Poor\n",
       "1  Delhi  2022-01-14  191.47  308.74  54.37  22.47  64.80  365.0  Very Poor\n",
       "2  Delhi  2022-01-15  177.71  309.85  52.51  19.12  59.73  352.0  Very Poor\n",
       "3  Delhi  2022-01-16  133.56  231.04  46.86  19.06  54.00  278.0       Poor\n",
       "4  Delhi  2022-01-17  235.06  353.55  47.86  14.48  64.10  350.0  Very Poor"
      ]
     },
     "execution_count": 79,
     "metadata": {},
     "output_type": "execute_result"
    }
   ],
   "source": [
    "data.head()"
   ]
  },
  {
   "cell_type": "code",
   "execution_count": 80,
   "id": "983f2f03-fd44-4864-aaf8-3d304d62852a",
   "metadata": {},
   "outputs": [
    {
     "data": {
      "text/plain": [
       "AQI_Bucket\n",
       "Moderate        1369\n",
       "Satisfactory    1128\n",
       "Good             319\n",
       "Poor             308\n",
       "Very Poor        158\n",
       "Severe            61\n",
       "Name: count, dtype: int64"
      ]
     },
     "execution_count": 80,
     "metadata": {},
     "output_type": "execute_result"
    }
   ],
   "source": [
    "data['AQI_Bucket'].value_counts()"
   ]
  },
  {
   "cell_type": "code",
   "execution_count": 81,
   "id": "7a57b730-f5de-423a-9cee-30478eb2ad67",
   "metadata": {},
   "outputs": [],
   "source": [
    "# Classification function\n",
    "def classify_health_status(bucket):\n",
    "    if bucket in ['Good', 'Satisfactory']:\n",
    "        return 'Healthy'\n",
    "    else:\n",
    "        return 'Unhealthy'\n",
    "\n",
    "# Apply classification\n",
    "data['Health_Class'] = data['AQI_Bucket'].apply(classify_health_status)"
   ]
  },
  {
   "cell_type": "code",
   "execution_count": 82,
   "id": "1a6ce9e0-6218-45d7-a955-afc1a9488d52",
   "metadata": {},
   "outputs": [
    {
     "data": {
      "text/plain": [
       "Health_Class\n",
       "Unhealthy    1902\n",
       "Healthy      1447\n",
       "Name: count, dtype: int64"
      ]
     },
     "execution_count": 82,
     "metadata": {},
     "output_type": "execute_result"
    }
   ],
   "source": [
    "data['Health_Class'].value_counts()"
   ]
  },
  {
   "cell_type": "code",
   "execution_count": 83,
   "id": "7766648e-d9f9-47db-8269-88268f9638db",
   "metadata": {},
   "outputs": [
    {
     "data": {
      "text/plain": [
       "City            0\n",
       "Date            0\n",
       "PM2.5           6\n",
       "PM10            6\n",
       "NO2             6\n",
       "SO2             6\n",
       "O3              6\n",
       "AQI             6\n",
       "AQI_Bucket      6\n",
       "Health_Class    0\n",
       "dtype: int64"
      ]
     },
     "execution_count": 83,
     "metadata": {},
     "output_type": "execute_result"
    }
   ],
   "source": [
    "data.isna().sum()"
   ]
  },
  {
   "cell_type": "code",
   "execution_count": 84,
   "id": "9407b13a-e657-4438-906c-5d2d48c90968",
   "metadata": {},
   "outputs": [
    {
     "data": {
      "text/plain": [
       "(3349, 10)"
      ]
     },
     "execution_count": 84,
     "metadata": {},
     "output_type": "execute_result"
    }
   ],
   "source": [
    "data.shape"
   ]
  },
  {
   "cell_type": "code",
   "execution_count": 85,
   "id": "25b4b466-0d11-4153-859c-948ec731a601",
   "metadata": {},
   "outputs": [
    {
     "name": "stdout",
     "output_type": "stream",
     "text": [
      "<class 'pandas.core.frame.DataFrame'>\n",
      "RangeIndex: 3349 entries, 0 to 3348\n",
      "Data columns (total 10 columns):\n",
      " #   Column        Non-Null Count  Dtype  \n",
      "---  ------        --------------  -----  \n",
      " 0   City          3349 non-null   object \n",
      " 1   Date          3349 non-null   object \n",
      " 2   PM2.5         3343 non-null   float64\n",
      " 3   PM10          3343 non-null   float64\n",
      " 4   NO2           3343 non-null   float64\n",
      " 5   SO2           3343 non-null   float64\n",
      " 6   O3            3343 non-null   float64\n",
      " 7   AQI           3343 non-null   float64\n",
      " 8   AQI_Bucket    3343 non-null   object \n",
      " 9   Health_Class  3349 non-null   object \n",
      "dtypes: float64(6), object(4)\n",
      "memory usage: 261.8+ KB\n"
     ]
    }
   ],
   "source": [
    "data.info()"
   ]
  },
  {
   "cell_type": "code",
   "execution_count": 86,
   "id": "c2527572-dbe3-49cc-958d-cc311294896d",
   "metadata": {},
   "outputs": [
    {
     "data": {
      "text/plain": [
       "False    3349\n",
       "Name: count, dtype: int64"
      ]
     },
     "execution_count": 86,
     "metadata": {},
     "output_type": "execute_result"
    }
   ],
   "source": [
    "data.duplicated().value_counts()"
   ]
  },
  {
   "cell_type": "code",
   "execution_count": 87,
   "id": "8ddf1656-96f0-4a86-8126-a7c56f516de1",
   "metadata": {},
   "outputs": [],
   "source": [
    "num_dt = data.select_dtypes(include = \"number\")\n",
    "cat_dt = data.select_dtypes(include = \"object\")\n",
    "\n",
    "num_cols = num_dt.columns.to_list()\n",
    "cat_cols = cat_dt.columns.to_list()"
   ]
  },
  {
   "cell_type": "code",
   "execution_count": 88,
   "id": "ab0dd15a-7150-47a0-a48e-c4c41847f2b9",
   "metadata": {},
   "outputs": [
    {
     "name": "stdout",
     "output_type": "stream",
     "text": [
      "PM2.5    2.190540\n",
      "PM10     1.855236\n",
      "NO2      2.303288\n",
      "SO2      3.308850\n",
      "O3       0.520853\n",
      "AQI      1.615790\n",
      "dtype: float64\n"
     ]
    }
   ],
   "source": [
    "print(data[num_cols].skew())"
   ]
  },
  {
   "cell_type": "code",
   "execution_count": 89,
   "id": "90d84f45-1141-4d6e-8c1b-c25643c96203",
   "metadata": {},
   "outputs": [],
   "source": [
    "for col in num_dt.columns:\n",
    "    if num_dt[col].skew() >= 0 and num_dt[col].skew() <= 0.5:\n",
    "        num_dt[col] = num_dt[col].fillna(num_dt[col].mean())\n",
    "    else:\n",
    "        num_dt[col] = num_dt[col].fillna(num_dt[col].median())"
   ]
  },
  {
   "cell_type": "code",
   "execution_count": 90,
   "id": "51f0f915-fb43-4cc9-8ea8-a9444a31cf32",
   "metadata": {},
   "outputs": [],
   "source": [
    "for col in cat_dt.columns:\n",
    "    cat_dt[col] = cat_dt[col].fillna(cat_dt[col].mode()[0]) "
   ]
  },
  {
   "cell_type": "code",
   "execution_count": 91,
   "id": "3749da3b-dd94-452e-b067-8ed70e32dd12",
   "metadata": {},
   "outputs": [],
   "source": [
    "data = pd.concat([num_dt, cat_dt], axis = 1)"
   ]
  },
  {
   "cell_type": "code",
   "execution_count": 92,
   "id": "0394a350-f6b8-45e0-a269-1cfd9d695f42",
   "metadata": {},
   "outputs": [
    {
     "data": {
      "text/plain": [
       "['City', 'Date', 'AQI_Bucket', 'Health_Class']"
      ]
     },
     "execution_count": 92,
     "metadata": {},
     "output_type": "execute_result"
    }
   ],
   "source": [
    "data.select_dtypes(include = ['object']).columns.tolist()"
   ]
  },
  {
   "cell_type": "code",
   "execution_count": 93,
   "id": "09ff546f-1d2f-4491-b1d9-f7ce522dbef1",
   "metadata": {},
   "outputs": [
    {
     "data": {
      "text/plain": [
       "Health_Class\n",
       "Unhealthy    0.567931\n",
       "Healthy      0.432069\n",
       "Name: proportion, dtype: float64"
      ]
     },
     "execution_count": 93,
     "metadata": {},
     "output_type": "execute_result"
    }
   ],
   "source": [
    "data['Health_Class'].value_counts(normalize = True)"
   ]
  },
  {
   "cell_type": "code",
   "execution_count": 94,
   "id": "028fd1a8-e44d-4437-a3f9-2f2bb5c5f5b9",
   "metadata": {},
   "outputs": [],
   "source": [
    "data = data.drop(['City', 'Date'], axis = 1)"
   ]
  },
  {
   "cell_type": "code",
   "execution_count": 95,
   "id": "cbb26ae2-2503-4936-80eb-3a37e9807c83",
   "metadata": {},
   "outputs": [],
   "source": [
    "from sklearn.preprocessing import LabelEncoder"
   ]
  },
  {
   "cell_type": "code",
   "execution_count": 96,
   "id": "38eb22d8-b5d2-4c3d-befa-1d83a16c78ce",
   "metadata": {},
   "outputs": [],
   "source": [
    "Label_Encoder = LabelEncoder()"
   ]
  },
  {
   "cell_type": "code",
   "execution_count": 97,
   "id": "1a879d1b-b90d-4674-9294-16a71a6c5312",
   "metadata": {},
   "outputs": [],
   "source": [
    "for col in ['AQI_Bucket', 'Health_Class']:\n",
    "    data[col] = Label_Encoder.fit_transform(data[col])"
   ]
  },
  {
   "cell_type": "code",
   "execution_count": 98,
   "id": "44033d3d-79b6-4bdd-a8a3-87a259d78947",
   "metadata": {},
   "outputs": [
    {
     "data": {
      "text/html": [
       "<div>\n",
       "<style scoped>\n",
       "    .dataframe tbody tr th:only-of-type {\n",
       "        vertical-align: middle;\n",
       "    }\n",
       "\n",
       "    .dataframe tbody tr th {\n",
       "        vertical-align: top;\n",
       "    }\n",
       "\n",
       "    .dataframe thead th {\n",
       "        text-align: right;\n",
       "    }\n",
       "</style>\n",
       "<table border=\"1\" class=\"dataframe\">\n",
       "  <thead>\n",
       "    <tr style=\"text-align: right;\">\n",
       "      <th></th>\n",
       "      <th>AQI_Bucket</th>\n",
       "      <th>Health_Class</th>\n",
       "    </tr>\n",
       "  </thead>\n",
       "  <tbody>\n",
       "    <tr>\n",
       "      <th>0</th>\n",
       "      <td>5</td>\n",
       "      <td>1</td>\n",
       "    </tr>\n",
       "    <tr>\n",
       "      <th>1</th>\n",
       "      <td>5</td>\n",
       "      <td>1</td>\n",
       "    </tr>\n",
       "    <tr>\n",
       "      <th>2</th>\n",
       "      <td>5</td>\n",
       "      <td>1</td>\n",
       "    </tr>\n",
       "    <tr>\n",
       "      <th>3</th>\n",
       "      <td>2</td>\n",
       "      <td>1</td>\n",
       "    </tr>\n",
       "    <tr>\n",
       "      <th>4</th>\n",
       "      <td>5</td>\n",
       "      <td>1</td>\n",
       "    </tr>\n",
       "  </tbody>\n",
       "</table>\n",
       "</div>"
      ],
      "text/plain": [
       "   AQI_Bucket  Health_Class\n",
       "0           5             1\n",
       "1           5             1\n",
       "2           5             1\n",
       "3           2             1\n",
       "4           5             1"
      ]
     },
     "execution_count": 98,
     "metadata": {},
     "output_type": "execute_result"
    }
   ],
   "source": [
    "data[['AQI_Bucket', 'Health_Class']].head()"
   ]
  },
  {
   "cell_type": "code",
   "execution_count": 99,
   "id": "c6eb057b-f79e-4095-80ba-b65205931bc6",
   "metadata": {},
   "outputs": [
    {
     "data": {
      "image/png": "[encoded data removed]",
      "text/plain": [
       "<Figure size 640x480 with 1 Axes>"
      ]
     },
     "metadata": {},
     "output_type": "display_data"
    }
   ],
   "source": [
    "data.boxplot()\n",
    "plt.xticks(rotation = 45)\n",
    "plt.show()"
   ]
  },
  {
   "cell_type": "code",
   "execution_count": 100,
   "id": "5578222a-689c-4551-ac82-146e23dc1522",
   "metadata": {},
   "outputs": [],
   "source": [
    "def remove_outliers(data, column):\n",
    "    \n",
    "    Q1 = data[column].quantile(0.25)\n",
    "    Q3 = data[column].quantile(0.75)\n",
    "    IQR = Q3 - Q1\n",
    "        \n",
    "    lower_bound = Q1 - 1.5 * IQR\n",
    "    upper_bound = Q3 + 1.5 * IQR\n",
    "\n",
    "    data[column] = data[column].clip(upper = upper_bound)\n",
    "    data[column] = data[column].clip(lower = lower_bound)\n",
    "        \n",
    "    return data[column]"
   ]
  },
  {
   "cell_type": "code",
   "execution_count": 101,
   "id": "9c8043e2-aa1b-4949-b220-c7a99a547086",
   "metadata": {},
   "outputs": [],
   "source": [
    "for col in data:\n",
    "    data[col] = remove_outliers(data, col)"
   ]
  },
  {
   "cell_type": "code",
   "execution_count": 102,
   "id": "bea5c526-a2b5-4801-84bc-78191de15692",
   "metadata": {},
   "outputs": [
    {
     "data": {
      "text/plain": [
       "(3349, 8)"
      ]
     },
     "execution_count": 102,
     "metadata": {},
     "output_type": "execute_result"
    }
   ],
   "source": [
    "data.shape"
   ]
  },
  {
   "cell_type": "code",
   "execution_count": 103,
   "id": "aabf20eb-c7cf-4d5c-8505-227ab97d2a62",
   "metadata": {},
   "outputs": [],
   "source": [
    "corr_matrix = data.corr()"
   ]
  },
  {
   "cell_type": "code",
   "execution_count": 104,
   "id": "7f891079-98b2-48b3-8d25-9002473cbe4c",
   "metadata": {},
   "outputs": [
    {
     "data": {
      "image/png": "[encoded data removed]",
      "text/plain": [
       "<Figure size 1000x800 with 2 Axes>"
      ]
     },
     "metadata": {},
     "output_type": "display_data"
    }
   ],
   "source": [
    "plt.subplots(figsize = (10,8))\n",
    "sns.heatmap(corr_matrix, annot=True, cmap='GnBu')\n",
    "plt.show()"
   ]
  },
  {
   "cell_type": "code",
   "execution_count": 105,
   "id": "50ca354f-c82c-4427-b957-608412c93629",
   "metadata": {},
   "outputs": [
    {
     "data": {
      "text/plain": [
       "Index(['PM2.5', 'PM10', 'NO2', 'SO2', 'O3', 'AQI', 'AQI_Bucket',\n",
       "       'Health_Class'],\n",
       "      dtype='object')"
      ]
     },
     "execution_count": 105,
     "metadata": {},
     "output_type": "execute_result"
    }
   ],
   "source": [
    "data.columns"
   ]
  },
  {
   "cell_type": "code",
   "execution_count": 106,
   "id": "39317ccf-6488-4476-be5b-14a2404b0dbc",
   "metadata": {},
   "outputs": [
    {
     "data": {
      "text/html": [
       "<div>\n",
       "<style scoped>\n",
       "    .dataframe tbody tr th:only-of-type {\n",
       "        vertical-align: middle;\n",
       "    }\n",
       "\n",
       "    .dataframe tbody tr th {\n",
       "        vertical-align: top;\n",
       "    }\n",
       "\n",
       "    .dataframe thead th {\n",
       "        text-align: right;\n",
       "    }\n",
       "</style>\n",
       "<table border=\"1\" class=\"dataframe\">\n",
       "  <thead>\n",
       "    <tr style=\"text-align: right;\">\n",
       "      <th></th>\n",
       "      <th>Models:</th>\n",
       "      <th>Accuracy:</th>\n",
       "      <th>Precision</th>\n",
       "      <th>Recall:</th>\n",
       "      <th>F1-Score:</th>\n",
       "      <th>Cross-Validation Scores:</th>\n",
       "    </tr>\n",
       "  </thead>\n",
       "  <tbody>\n",
       "  </tbody>\n",
       "</table>\n",
       "</div>"
      ],
      "text/plain": [
       "Empty DataFrame\n",
       "Columns: [Models:, Accuracy:, Precision, Recall:, F1-Score:, Cross-Validation Scores:]\n",
       "Index: []"
      ]
     },
     "execution_count": 106,
     "metadata": {},
     "output_type": "execute_result"
    }
   ],
   "source": [
    "result = {'Models:' : [], 'Accuracy:' : [], 'Precision' : [], 'Recall:' : [], 'F1-Score:' : [], 'Cross-Validation Scores:' : [] } \n",
    "result_dt = pd.DataFrame(result) \n",
    "result_dt\n"
   ]
  },
  {
   "cell_type": "code",
   "execution_count": 107,
   "id": "3fa88286-32d2-487d-8172-8e567ceabc99",
   "metadata": {},
   "outputs": [],
   "source": [
    "from sklearn.model_selection import train_test_split"
   ]
  },
  {
   "cell_type": "code",
   "execution_count": 108,
   "id": "55216d69-e7d3-448b-993d-d8549938a920",
   "metadata": {},
   "outputs": [],
   "source": [
    "x = data.drop(['AQI_Bucket', 'Health_Class'], axis = 1)\n",
    "y = data['Health_Class']"
   ]
  },
  {
   "cell_type": "code",
   "execution_count": 109,
   "id": "11962e20-879f-4326-b2ce-53dd7b19e2f8",
   "metadata": {},
   "outputs": [],
   "source": [
    "x_train, x_test, y_train, y_test = train_test_split(x, y, test_size=0.2, random_state = 42)"
   ]
  },
  {
   "cell_type": "code",
   "execution_count": 110,
   "id": "1dc5a5ca-cb4a-4b45-adf2-df8713335e85",
   "metadata": {},
   "outputs": [],
   "source": [
    "from sklearn.linear_model import LogisticRegression\n",
    "log_reg = LogisticRegression()\n",
    "log_reg.fit(x_train, y_train)\n",
    "\n",
    "y_pred = log_reg.predict(x_test)"
   ]
  },
  {
   "cell_type": "code",
   "execution_count": 111,
   "id": "a1e005da-97a0-4510-a426-621910a32788",
   "metadata": {},
   "outputs": [],
   "source": [
    "from sklearn.metrics import (confusion_matrix, accuracy_score, precision_score, recall_score, f1_score)"
   ]
  },
  {
   "cell_type": "code",
   "execution_count": 112,
   "id": "69640f95-5d58-43ba-9ea3-a1f0422d0636",
   "metadata": {},
   "outputs": [
    {
     "name": "stdout",
     "output_type": "stream",
     "text": [
      "Accuracy is: 0.9970149253731343\n",
      "Precision is: 0.9973118279569892\n",
      "Recall is: 0.9973118279569892\n",
      "F1_score is: 0.9973118279569892\n"
     ]
    }
   ],
   "source": [
    "print('Accuracy is:', accuracy_score(y_test,y_pred))\n",
    "print('Precision is:', precision_score(y_test,y_pred))\n",
    "print('Recall is:', recall_score(y_test,y_pred))\n",
    "print('F1_score is:', f1_score(y_test,y_pred))"
   ]
  },
  {
   "cell_type": "code",
   "execution_count": 113,
   "id": "dafb66a7-a70d-4001-961f-a05afc3b9b88",
   "metadata": {},
   "outputs": [],
   "source": [
    "from sklearn.model_selection import KFold\n",
    "kfold_validator = KFold(10)\n",
    "\n",
    "from sklearn.model_selection import cross_val_score\n",
    "cv_score = cross_val_score(log_reg, x, y, cv = kfold_validator)\n",
    "cv_mean = np.mean(cv_score)"
   ]
  },
  {
   "cell_type": "code",
   "execution_count": 114,
   "id": "1e3ba0c1-5de8-4192-b535-75518ab67e8b",
   "metadata": {},
   "outputs": [
    {
     "data": {
      "text/plain": [
       "array([1.        , 0.99402985, 1.        , 0.99701493, 1.        ,\n",
       "       1.        , 1.        , 0.99402985, 1.        , 0.99401198])"
      ]
     },
     "execution_count": 114,
     "metadata": {},
     "output_type": "execute_result"
    }
   ],
   "source": [
    "cv_score"
   ]
  },
  {
   "cell_type": "code",
   "execution_count": 115,
   "id": "3929759a-c2c8-4d48-a6bd-401205bbd5b6",
   "metadata": {},
   "outputs": [],
   "source": [
    "result_dt.loc[len(result_dt)] = ['Logistic Regression',accuracy_score(y_test,y_pred), precision_score(y_test,y_pred), recall_score(y_test,y_pred),\n",
    "f1_score(y_test,y_pred), cv_mean]"
   ]
  },
  {
   "cell_type": "code",
   "execution_count": 116,
   "id": "b32ada5d-7904-49eb-b007-e7cd7095d2be",
   "metadata": {},
   "outputs": [],
   "source": [
    "from sklearn.svm import SVC"
   ]
  },
  {
   "cell_type": "code",
   "execution_count": 117,
   "id": "25fe5d61-fba0-4b87-8507-1b07436068b4",
   "metadata": {},
   "outputs": [],
   "source": [
    "svm_cls = SVC(kernel = 'rbf')\n",
    "svm_cls = svm_cls.fit(x_train, y_train)"
   ]
  },
  {
   "cell_type": "code",
   "execution_count": 118,
   "id": "31f3bded-3097-4502-bd12-ce321bd2dcc5",
   "metadata": {},
   "outputs": [],
   "source": [
    "y_pred_svm = svm_cls.predict(x_test)"
   ]
  },
  {
   "cell_type": "code",
   "execution_count": 119,
   "id": "e0bf9480-5601-43ea-ac27-2933b8ed5fc6",
   "metadata": {},
   "outputs": [
    {
     "name": "stdout",
     "output_type": "stream",
     "text": [
      "Accuracy is: 0.991044776119403\n",
      "Precision is: 0.9893048128342246\n",
      "Recall is: 0.9946236559139785\n",
      "F1_score is: 0.9919571045576407\n"
     ]
    }
   ],
   "source": [
    "print('Accuracy is:', accuracy_score(y_test,y_pred_svm))\n",
    "print('Precision is:', precision_score(y_test,y_pred_svm))\n",
    "print('Recall is:', recall_score(y_test,y_pred_svm))\n",
    "print('F1_score is:', f1_score(y_test,y_pred_svm))"
   ]
  },
  {
   "cell_type": "code",
   "execution_count": 120,
   "id": "44b12363-5877-488d-aeeb-9a7a3f5c3114",
   "metadata": {},
   "outputs": [
    {
     "data": {
      "text/plain": [
       "array([0.99104478, 0.99701493, 0.98507463, 0.9880597 , 0.98507463,\n",
       "       0.99701493, 0.99104478, 0.9880597 , 0.99701493, 0.98802395])"
      ]
     },
     "execution_count": 120,
     "metadata": {},
     "output_type": "execute_result"
    }
   ],
   "source": [
    "cv_score1 = cross_val_score(svm_cls, x, y, cv = kfold_validator)\n",
    "cv_mean1 = np.mean(cv_score1)\n",
    "cv_score1"
   ]
  },
  {
   "cell_type": "code",
   "execution_count": 121,
   "id": "aaf05e82-f6b1-484d-85bd-49119be42550",
   "metadata": {},
   "outputs": [],
   "source": [
    "result_dt.loc[len(result_dt)] =  ['SVC',accuracy_score(y_test,y_pred_svm), precision_score(y_test,y_pred_svm), recall_score(y_test,y_pred_svm),\n",
    "f1_score(y_test,y_pred_svm), cv_mean1]"
   ]
  },
  {
   "cell_type": "code",
   "execution_count": 122,
   "id": "fe4bf291-f56c-4422-8a6d-9263ba57cecf",
   "metadata": {},
   "outputs": [],
   "source": [
    "from sklearn.tree import DecisionTreeClassifier"
   ]
  },
  {
   "cell_type": "code",
   "execution_count": 123,
   "id": "33ab3892-22bd-4081-9328-0daef5b3c8a2",
   "metadata": {},
   "outputs": [],
   "source": [
    "dt_cls = DecisionTreeClassifier()\n",
    "dt_cls = dt_cls.fit(x_train, y_train)"
   ]
  },
  {
   "cell_type": "code",
   "execution_count": 124,
   "id": "1cbabeca-034c-4f4d-8543-f8a7d8ead3a2",
   "metadata": {},
   "outputs": [],
   "source": [
    "y_pred_dt = dt_cls.predict(x_test)"
   ]
  },
  {
   "cell_type": "code",
   "execution_count": 125,
   "id": "caf0dc40-a998-48c9-96d8-33c7bcd92fe2",
   "metadata": {},
   "outputs": [
    {
     "name": "stdout",
     "output_type": "stream",
     "text": [
      "Accuracy is: 0.9970149253731343\n",
      "Precision is: 0.9973118279569892\n",
      "Recall is: 0.9973118279569892\n",
      "F1_score is: 0.9973118279569892\n"
     ]
    }
   ],
   "source": [
    "print('Accuracy is:', accuracy_score(y_test,y_pred_dt))\n",
    "print('Precision is:', precision_score(y_test,y_pred_dt))\n",
    "print('Recall is:', recall_score(y_test,y_pred_dt))\n",
    "print('F1_score is:', f1_score(y_test,y_pred_dt))"
   ]
  },
  {
   "cell_type": "code",
   "execution_count": 126,
   "id": "a87552c0-eb9b-48e9-af2f-a5df02975424",
   "metadata": {},
   "outputs": [
    {
     "data": {
      "text/plain": [
       "array([1.        , 0.99402985, 1.        , 1.        , 1.        ,\n",
       "       0.99701493, 1.        , 0.99701493, 1.        , 1.        ])"
      ]
     },
     "execution_count": 126,
     "metadata": {},
     "output_type": "execute_result"
    }
   ],
   "source": [
    "cv_score2 = cross_val_score(dt_cls, x, y, cv = kfold_validator)\n",
    "cv_mean2 = np.mean(cv_score2)\n",
    "cv_score2"
   ]
  },
  {
   "cell_type": "code",
   "execution_count": 127,
   "id": "ff0d5def-78e2-4158-b23a-91bde104b9fe",
   "metadata": {},
   "outputs": [],
   "source": [
    "result_dt.loc[len(result_dt)] =  ['Decision Tree Classifier',accuracy_score(y_test,y_pred_dt), precision_score(y_test,y_pred_dt), recall_score(y_test,y_pred_dt),\n",
    "f1_score(y_test,y_pred_dt), cv_mean2]"
   ]
  },
  {
   "cell_type": "code",
   "execution_count": 128,
   "id": "1781d9d8-5053-47e4-8464-00ec7468d2b2",
   "metadata": {},
   "outputs": [],
   "source": [
    "from sklearn.ensemble import RandomForestClassifier"
   ]
  },
  {
   "cell_type": "code",
   "execution_count": 129,
   "id": "f4f05b14-48c6-4216-91d2-da19e3ac6718",
   "metadata": {},
   "outputs": [],
   "source": [
    "rf_cls = RandomForestClassifier()\n",
    "rf_cls = rf_cls.fit(x_train, y_train)"
   ]
  },
  {
   "cell_type": "code",
   "execution_count": 130,
   "id": "5d29bdd8-09c4-4a0d-a795-14ecdfae0ac4",
   "metadata": {},
   "outputs": [],
   "source": [
    "y_pred_rf = rf_cls.predict(x_test)"
   ]
  },
  {
   "cell_type": "code",
   "execution_count": 131,
   "id": "c26ea6bf-0682-4ced-9675-d34c4d4f62e5",
   "metadata": {},
   "outputs": [
    {
     "name": "stdout",
     "output_type": "stream",
     "text": [
      "Accuracy is: 0.9970149253731343\n",
      "Precision is: 0.9973118279569892\n",
      "Recall is: 0.9973118279569892\n",
      "F1_score is: 0.9973118279569892\n"
     ]
    }
   ],
   "source": [
    "print('Accuracy is:', accuracy_score(y_test,y_pred_rf))\n",
    "print('Precision is:', precision_score(y_test,y_pred_rf))\n",
    "print('Recall is:', recall_score(y_test,y_pred_rf))\n",
    "print('F1_score is:', f1_score(y_test,y_pred_rf))"
   ]
  },
  {
   "cell_type": "code",
   "execution_count": 132,
   "id": "a70c472e-f41e-493c-aac3-360951256bd6",
   "metadata": {},
   "outputs": [
    {
     "data": {
      "text/plain": [
       "array([1.        , 0.99402985, 1.        , 1.        , 1.        ,\n",
       "       0.99701493, 1.        , 0.99402985, 1.        , 0.99700599])"
      ]
     },
     "execution_count": 132,
     "metadata": {},
     "output_type": "execute_result"
    }
   ],
   "source": [
    "cv_score3 = cross_val_score(rf_cls, x, y, cv = kfold_validator)\n",
    "cv_mean3 = np.mean(cv_score3)\n",
    "cv_score3"
   ]
  },
  {
   "cell_type": "code",
   "execution_count": 133,
   "id": "f77b8230-bf2b-47d8-b35f-b6c1a090f04a",
   "metadata": {},
   "outputs": [],
   "source": [
    "result_dt.loc[len(result_dt)] =  ['Random Forest Classifier',accuracy_score(y_test,y_pred_rf), precision_score(y_test,y_pred_rf), recall_score(y_test,y_pred_rf),\n",
    "f1_score(y_test,y_pred_rf), cv_mean3]"
   ]
  },
  {
   "cell_type": "code",
   "execution_count": 134,
   "id": "ad3b7130-195e-4282-bef4-8f805a29712a",
   "metadata": {},
   "outputs": [
    {
     "data": {
      "text/html": [
       "<div>\n",
       "<style scoped>\n",
       "    .dataframe tbody tr th:only-of-type {\n",
       "        vertical-align: middle;\n",
       "    }\n",
       "\n",
       "    .dataframe tbody tr th {\n",
       "        vertical-align: top;\n",
       "    }\n",
       "\n",
       "    .dataframe thead th {\n",
       "        text-align: right;\n",
       "    }\n",
       "</style>\n",
       "<table border=\"1\" class=\"dataframe\">\n",
       "  <thead>\n",
       "    <tr style=\"text-align: right;\">\n",
       "      <th></th>\n",
       "      <th>Models:</th>\n",
       "      <th>Accuracy:</th>\n",
       "      <th>Precision</th>\n",
       "      <th>Recall:</th>\n",
       "      <th>F1-Score:</th>\n",
       "      <th>Cross-Validation Scores:</th>\n",
       "    </tr>\n",
       "  </thead>\n",
       "  <tbody>\n",
       "    <tr>\n",
       "      <th>0</th>\n",
       "      <td>Logistic Regression</td>\n",
       "      <td>0.997015</td>\n",
       "      <td>0.997312</td>\n",
       "      <td>0.997312</td>\n",
       "      <td>0.997312</td>\n",
       "      <td>0.997909</td>\n",
       "    </tr>\n",
       "    <tr>\n",
       "      <th>1</th>\n",
       "      <td>SVC</td>\n",
       "      <td>0.991045</td>\n",
       "      <td>0.989305</td>\n",
       "      <td>0.994624</td>\n",
       "      <td>0.991957</td>\n",
       "      <td>0.990743</td>\n",
       "    </tr>\n",
       "    <tr>\n",
       "      <th>2</th>\n",
       "      <td>Decision Tree Classifier</td>\n",
       "      <td>0.997015</td>\n",
       "      <td>0.997312</td>\n",
       "      <td>0.997312</td>\n",
       "      <td>0.997312</td>\n",
       "      <td>0.998806</td>\n",
       "    </tr>\n",
       "    <tr>\n",
       "      <th>3</th>\n",
       "      <td>Random Forest Classifier</td>\n",
       "      <td>0.997015</td>\n",
       "      <td>0.997312</td>\n",
       "      <td>0.997312</td>\n",
       "      <td>0.997312</td>\n",
       "      <td>0.998208</td>\n",
       "    </tr>\n",
       "  </tbody>\n",
       "</table>\n",
       "</div>"
      ],
      "text/plain": [
       "                    Models:  Accuracy:  Precision   Recall:  F1-Score:  \\\n",
       "0       Logistic Regression   0.997015   0.997312  0.997312   0.997312   \n",
       "1                       SVC   0.991045   0.989305  0.994624   0.991957   \n",
       "2  Decision Tree Classifier   0.997015   0.997312  0.997312   0.997312   \n",
       "3  Random Forest Classifier   0.997015   0.997312  0.997312   0.997312   \n",
       "\n",
       "   Cross-Validation Scores:  \n",
       "0                  0.997909  \n",
       "1                  0.990743  \n",
       "2                  0.998806  \n",
       "3                  0.998208  "
      ]
     },
     "execution_count": 134,
     "metadata": {},
     "output_type": "execute_result"
    }
   ],
   "source": [
    "result_dt"
   ]
  },
  {
   "cell_type": "code",
   "execution_count": 139,
   "id": "68323157-ce52-4820-8b77-351e91ac41a7",
   "metadata": {},
   "outputs": [
    {
     "name": "stdout",
     "output_type": "stream",
     "text": [
      "F1 Scores across folds: [0.99868594 0.99868594 0.99868594 0.99868594 1.        ]\n",
      "Mean F1 Score: 0.9989487516425756\n"
     ]
    }
   ],
   "source": [
    "from sklearn.model_selection import StratifiedKFold, cross_val_score\n",
    "from sklearn.pipeline import Pipeline\n",
    "from sklearn.linear_model import LogisticRegression\n",
    "from imblearn.pipeline import Pipeline as ImbPipeline\n",
    "from imblearn.over_sampling import SMOTE\n",
    "\n",
    "# Create pipeline with SMOTE inside each fold\n",
    "pipeline = ImbPipeline([\n",
    "    ('smote', SMOTE(random_state=42)),\n",
    "    ('model', LogisticRegression())\n",
    "])\n",
    "\n",
    "# Cross-validation\n",
    "cv = StratifiedKFold(n_splits=5, shuffle=True, random_state=42)\n",
    "scores = cross_val_score(pipeline, x, y, cv=cv, scoring='f1')\n",
    "print(\"F1 Scores across folds:\", scores)\n",
    "print(\"Mean F1 Score:\", scores.mean())"
   ]
  },
  {
   "cell_type": "code",
   "execution_count": 142,
   "id": "5ea55806-2069-407c-bfbf-124a43f8c08d",
   "metadata": {},
   "outputs": [
    {
     "name": "stdout",
     "output_type": "stream",
     "text": [
      "ROC AUC Score: 1.0000\n"
     ]
    }
   ],
   "source": [
    "from sklearn.metrics import roc_auc_score\n",
    "\n",
    "auc = roc_auc_score(y_test, log_reg.predict_proba(x_test)[:,1])\n",
    "print(f\"ROC AUC Score: {auc:.4f}\")"
   ]
  },
  {
   "cell_type": "code",
   "execution_count": 143,
   "id": "fb306409-b6df-407b-8815-eb42c6772dbe",
   "metadata": {},
   "outputs": [
    {
     "name": "stdout",
     "output_type": "stream",
     "text": [
      "Balanced Accuracy: 0.9970\n"
     ]
    }
   ],
   "source": [
    "from sklearn.metrics import balanced_accuracy_score\n",
    "\n",
    "bal_acc = balanced_accuracy_score(y_test, y_pred)\n",
    "print(f\"Balanced Accuracy: {bal_acc:.4f}\")"
   ]
  },
  {
   "cell_type": "code",
   "execution_count": null,
   "id": "32ac4c2f",
   "metadata": {},
   "outputs": [],
   "source": [
    "import pickle\n",
    "\n",
    "# Save model to a file\n",
    "with open('dt_cls_model.pkl', 'wb') as f:\n",
    "    pickle.dump(dt_cls, f)"
   ]
  },
  {
   "cell_type": "code",
   "execution_count": null,
   "id": "afbbae0c-a595-408c-8c5d-8615ec3dce12",
   "metadata": {},
   "outputs": [],
   "source": []
  }
 ],
 "metadata": {
  "kernelspec": {
   "display_name": "Python 3 (ipykernel)",
   "language": "python",
   "name": "python3"
  },
  "language_info": {
   "codemirror_mode": {
    "name": "ipython",
    "version": 3
   },
   "file_extension": ".py",
   "mimetype": "text/x-python",
   "name": "python",
   "nbconvert_exporter": "python",
   "pygments_lexer": "ipython3",
   "version": "3.12.7"
  }
 },
 "nbformat": 4,
 "nbformat_minor": 5
}
