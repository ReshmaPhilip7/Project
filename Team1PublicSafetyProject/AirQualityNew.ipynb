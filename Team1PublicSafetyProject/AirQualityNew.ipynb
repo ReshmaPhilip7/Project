{
 "cells": [
  {
   "cell_type": "code",
   "execution_count": 67,
   "id": "0137cefb-eb4b-4612-b38d-612ed628b41b",
   "metadata": {},
   "outputs": [],
   "source": [
    "import numpy as np\n",
    "import pandas as pd\n",
    "import seaborn as sns\n",
    "import matplotlib.pyplot as plt"
   ]
  },
  {
   "cell_type": "code",
   "execution_count": 68,
   "id": "d275daf3-1fbf-44e5-8743-ff9bca474222",
   "metadata": {},
   "outputs": [],
   "source": [
    "data = pd.read_csv(r\"C:\\Users\\kevin\\Downloads\\air_quality_data.csv\")"
   ]
  },
  {
   "cell_type": "code",
   "execution_count": 69,
   "id": "f762af70-c056-4317-adea-810b99bf3af2",
   "metadata": {},
   "outputs": [
    {
     "data": {
      "text/html": [
       "<div>\n",
       "<style scoped>\n",
       "    .dataframe tbody tr th:only-of-type {\n",
       "        vertical-align: middle;\n",
       "    }\n",
       "\n",
       "    .dataframe tbody tr th {\n",
       "        vertical-align: top;\n",
       "    }\n",
       "\n",
       "    .dataframe thead th {\n",
       "        text-align: right;\n",
       "    }\n",
       "</style>\n",
       "<table border=\"1\" class=\"dataframe\">\n",
       "  <thead>\n",
       "    <tr style=\"text-align: right;\">\n",
       "      <th></th>\n",
       "      <th>City</th>\n",
       "      <th>Date</th>\n",
       "      <th>PM2.5</th>\n",
       "      <th>PM10</th>\n",
       "      <th>NO2</th>\n",
       "      <th>SO2</th>\n",
       "      <th>O3</th>\n",
       "      <th>AQI</th>\n",
       "      <th>AQI_Bucket</th>\n",
       "    </tr>\n",
       "  </thead>\n",
       "  <tbody>\n",
       "    <tr>\n",
       "      <th>0</th>\n",
       "      <td>Delhi</td>\n",
       "      <td>2022-01-13</td>\n",
       "      <td>230.50</td>\n",
       "      <td>355.43</td>\n",
       "      <td>61.28</td>\n",
       "      <td>24.28</td>\n",
       "      <td>75.14</td>\n",
       "      <td>370.0</td>\n",
       "      <td>Very Poor</td>\n",
       "    </tr>\n",
       "    <tr>\n",
       "      <th>1</th>\n",
       "      <td>Delhi</td>\n",
       "      <td>2022-01-14</td>\n",
       "      <td>191.47</td>\n",
       "      <td>308.74</td>\n",
       "      <td>54.37</td>\n",
       "      <td>22.47</td>\n",
       "      <td>64.80</td>\n",
       "      <td>365.0</td>\n",
       "      <td>Very Poor</td>\n",
       "    </tr>\n",
       "    <tr>\n",
       "      <th>2</th>\n",
       "      <td>Delhi</td>\n",
       "      <td>2022-01-15</td>\n",
       "      <td>177.71</td>\n",
       "      <td>309.85</td>\n",
       "      <td>52.51</td>\n",
       "      <td>19.12</td>\n",
       "      <td>59.73</td>\n",
       "      <td>352.0</td>\n",
       "      <td>Very Poor</td>\n",
       "    </tr>\n",
       "    <tr>\n",
       "      <th>3</th>\n",
       "      <td>Delhi</td>\n",
       "      <td>2022-01-16</td>\n",
       "      <td>133.56</td>\n",
       "      <td>231.04</td>\n",
       "      <td>46.86</td>\n",
       "      <td>19.06</td>\n",
       "      <td>54.00</td>\n",
       "      <td>278.0</td>\n",
       "      <td>Poor</td>\n",
       "    </tr>\n",
       "    <tr>\n",
       "      <th>4</th>\n",
       "      <td>Delhi</td>\n",
       "      <td>2022-01-17</td>\n",
       "      <td>235.06</td>\n",
       "      <td>353.55</td>\n",
       "      <td>47.86</td>\n",
       "      <td>14.48</td>\n",
       "      <td>64.10</td>\n",
       "      <td>350.0</td>\n",
       "      <td>Very Poor</td>\n",
       "    </tr>\n",
       "  </tbody>\n",
       "</table>\n",
       "</div>"
      ],
      "text/plain": [
       "    City        Date   PM2.5    PM10    NO2    SO2     O3    AQI AQI_Bucket\n",
       "0  Delhi  2022-01-13  230.50  355.43  61.28  24.28  75.14  370.0  Very Poor\n",
       "1  Delhi  2022-01-14  191.47  308.74  54.37  22.47  64.80  365.0  Very Poor\n",
       "2  Delhi  2022-01-15  177.71  309.85  52.51  19.12  59.73  352.0  Very Poor\n",
       "3  Delhi  2022-01-16  133.56  231.04  46.86  19.06  54.00  278.0       Poor\n",
       "4  Delhi  2022-01-17  235.06  353.55  47.86  14.48  64.10  350.0  Very Poor"
      ]
     },
     "execution_count": 69,
     "metadata": {},
     "output_type": "execute_result"
    }
   ],
   "source": [
    "data.head()"
   ]
  },
  {
   "cell_type": "code",
   "execution_count": 70,
   "id": "8da2a161-704f-4ff8-b691-39cdd167d105",
   "metadata": {},
   "outputs": [
    {
     "data": {
      "text/plain": [
       "AQI_Bucket\n",
       "Moderate        1369\n",
       "Satisfactory    1128\n",
       "Good             319\n",
       "Poor             308\n",
       "Very Poor        158\n",
       "Severe            61\n",
       "Name: count, dtype: int64"
      ]
     },
     "execution_count": 70,
     "metadata": {},
     "output_type": "execute_result"
    }
   ],
   "source": [
    "data['AQI_Bucket'].value_counts()"
   ]
  },
  {
   "cell_type": "code",
   "execution_count": 71,
   "id": "2d92041e-3c87-4de9-bd84-f0048bc373c1",
   "metadata": {},
   "outputs": [],
   "source": [
    "# Classification function\n",
    "def classify_health_status(bucket):\n",
    "    if bucket in ['Good', 'Satisfactory']:\n",
    "        return 'Healthy'\n",
    "    else:\n",
    "        return 'Unhealthy'\n",
    "\n",
    "# Apply classification\n",
    "data['Health_Class'] = data['AQI_Bucket'].apply(classify_health_status)"
   ]
  },
  {
   "cell_type": "code",
   "execution_count": 72,
   "id": "bffb739b-1acd-4d5a-bc75-7ea17f188434",
   "metadata": {},
   "outputs": [
    {
     "data": {
      "text/plain": [
       "Health_Class\n",
       "Unhealthy    1902\n",
       "Healthy      1447\n",
       "Name: count, dtype: int64"
      ]
     },
     "execution_count": 72,
     "metadata": {},
     "output_type": "execute_result"
    }
   ],
   "source": [
    "data['Health_Class'].value_counts()"
   ]
  },
  {
   "cell_type": "code",
   "execution_count": 73,
   "id": "8bde9daf-2850-40a3-8fa7-0e3d8b156490",
   "metadata": {},
   "outputs": [
    {
     "data": {
      "text/plain": [
       "City            0\n",
       "Date            0\n",
       "PM2.5           6\n",
       "PM10            6\n",
       "NO2             6\n",
       "SO2             6\n",
       "O3              6\n",
       "AQI             6\n",
       "AQI_Bucket      6\n",
       "Health_Class    0\n",
       "dtype: int64"
      ]
     },
     "execution_count": 73,
     "metadata": {},
     "output_type": "execute_result"
    }
   ],
   "source": [
    "data.isna().sum()"
   ]
  },
  {
   "cell_type": "code",
   "execution_count": 74,
   "id": "901a56b7-85df-4b86-afae-13003663fdc1",
   "metadata": {},
   "outputs": [
    {
     "data": {
      "text/plain": [
       "(3349, 10)"
      ]
     },
     "execution_count": 74,
     "metadata": {},
     "output_type": "execute_result"
    }
   ],
   "source": [
    "data.shape"
   ]
  },
  {
   "cell_type": "code",
   "execution_count": 75,
   "id": "76fc647b-20d2-4941-8393-6dce41e6f824",
   "metadata": {},
   "outputs": [
    {
     "name": "stdout",
     "output_type": "stream",
     "text": [
      "<class 'pandas.core.frame.DataFrame'>\n",
      "RangeIndex: 3349 entries, 0 to 3348\n",
      "Data columns (total 10 columns):\n",
      " #   Column        Non-Null Count  Dtype  \n",
      "---  ------        --------------  -----  \n",
      " 0   City          3349 non-null   object \n",
      " 1   Date          3349 non-null   object \n",
      " 2   PM2.5         3343 non-null   float64\n",
      " 3   PM10          3343 non-null   float64\n",
      " 4   NO2           3343 non-null   float64\n",
      " 5   SO2           3343 non-null   float64\n",
      " 6   O3            3343 non-null   float64\n",
      " 7   AQI           3343 non-null   float64\n",
      " 8   AQI_Bucket    3343 non-null   object \n",
      " 9   Health_Class  3349 non-null   object \n",
      "dtypes: float64(6), object(4)\n",
      "memory usage: 261.8+ KB\n"
     ]
    }
   ],
   "source": [
    "data.info()"
   ]
  },
  {
   "cell_type": "code",
   "execution_count": 76,
   "id": "54896f1f-ea6f-4993-a54e-75d05da6e3e6",
   "metadata": {},
   "outputs": [
    {
     "data": {
      "text/plain": [
       "False    3349\n",
       "Name: count, dtype: int64"
      ]
     },
     "execution_count": 76,
     "metadata": {},
     "output_type": "execute_result"
    }
   ],
   "source": [
    "data.duplicated().value_counts()"
   ]
  },
  {
   "cell_type": "code",
   "execution_count": 77,
   "id": "3d265e3e-591d-4e9f-bc5f-625a81baa280",
   "metadata": {},
   "outputs": [],
   "source": [
    "num_dt = data.select_dtypes(include = \"number\")\n",
    "cat_dt = data.select_dtypes(include = \"object\")"
   ]
  },
  {
   "cell_type": "code",
   "execution_count": 78,
   "id": "28bb4989-a9e7-4256-aabb-332aa9f1cb4f",
   "metadata": {},
   "outputs": [],
   "source": [
    "num_cols = num_dt.columns.to_list()\n",
    "cat_cols = cat_dt.columns.to_list()"
   ]
  },
  {
   "cell_type": "code",
   "execution_count": 79,
   "id": "b70d52ad-e891-4956-9371-5d5b2d856f18",
   "metadata": {},
   "outputs": [
    {
     "data": {
      "text/plain": [
       "array([[<Axes: title={'center': 'PM2.5'}>,\n",
       "        <Axes: title={'center': 'PM10'}>],\n",
       "       [<Axes: title={'center': 'NO2'}>, <Axes: title={'center': 'SO2'}>],\n",
       "       [<Axes: title={'center': 'O3'}>, <Axes: title={'center': 'AQI'}>]],\n",
       "      dtype=object)"
      ]
     },
     "execution_count": 79,
     "metadata": {},
     "output_type": "execute_result"
    },
    {
     "data": {
      "image/png": "[encoded data removed]",
      "text/plain": [
       "<Figure size 640x480 with 6 Axes>"
      ]
     },
     "metadata": {},
     "output_type": "display_data"
    }
   ],
   "source": [
    "data.hist(num_cols)"
   ]
  },
  {
   "cell_type": "code",
   "execution_count": 80,
   "id": "34b7738f-8f19-4511-b0be-a30a9034d58c",
   "metadata": {},
   "outputs": [
    {
     "name": "stdout",
     "output_type": "stream",
     "text": [
      "PM2.5    2.190540\n",
      "PM10     1.855236\n",
      "NO2      2.303288\n",
      "SO2      3.308850\n",
      "O3       0.520853\n",
      "AQI      1.615790\n",
      "dtype: float64\n"
     ]
    }
   ],
   "source": [
    "print(data[num_cols].skew())"
   ]
  },
  {
   "cell_type": "code",
   "execution_count": 81,
   "id": "ed8f4534-574a-43af-928b-86a000d3866e",
   "metadata": {},
   "outputs": [],
   "source": [
    "for col in num_dt.columns:\n",
    "    if num_dt[col].skew() >= 0 and num_dt[col].skew() <= 0.5:\n",
    "        num_dt[col] = num_dt[col].fillna(num_dt[col].mean())\n",
    "    else:\n",
    "        num_dt[col] = num_dt[col].fillna(num_dt[col].median())"
   ]
  },
  {
   "cell_type": "code",
   "execution_count": 82,
   "id": "d13d9139-f93b-4442-b4e8-ec0b2ba31473",
   "metadata": {},
   "outputs": [],
   "source": [
    "for col in cat_dt.columns:\n",
    "    cat_dt[col] = cat_dt[col].fillna(cat_dt[col].mode()[0]) "
   ]
  },
  {
   "cell_type": "code",
   "execution_count": 83,
   "id": "0ae97332-c70b-422a-a692-429b4b5dc8d3",
   "metadata": {},
   "outputs": [],
   "source": [
    "data = pd.concat([num_dt, cat_dt], axis = 1)"
   ]
  },
  {
   "cell_type": "code",
   "execution_count": 84,
   "id": "e7f14e8d-0120-49cf-9d86-42bf814d15da",
   "metadata": {},
   "outputs": [
    {
     "data": {
      "text/plain": [
       "['City', 'Date', 'AQI_Bucket', 'Health_Class']"
      ]
     },
     "execution_count": 84,
     "metadata": {},
     "output_type": "execute_result"
    }
   ],
   "source": [
    "data.select_dtypes(include = ['object']).columns.tolist()"
   ]
  },
  {
   "cell_type": "code",
   "execution_count": 85,
   "id": "d5ae188f-d08e-4e35-ad73-5e09cbb75541",
   "metadata": {},
   "outputs": [],
   "source": [
    "data = data.drop(['City', 'Date', 'AQI_Bucket', 'Health_Class'], axis = 1)"
   ]
  },
  {
   "cell_type": "code",
   "execution_count": 86,
   "id": "8b71b8d6-3893-4584-93c1-9c86f3c6ccb4",
   "metadata": {},
   "outputs": [
    {
     "data": {
      "text/plain": [
       "(3349, 6)"
      ]
     },
     "execution_count": 86,
     "metadata": {},
     "output_type": "execute_result"
    }
   ],
   "source": [
    "data.shape"
   ]
  },
  {
   "cell_type": "code",
   "execution_count": 87,
   "id": "8770437d-6949-4fce-82c3-caee765a1490",
   "metadata": {},
   "outputs": [],
   "source": [
    "corr_matrix = data.corr()"
   ]
  },
  {
   "cell_type": "code",
   "execution_count": 88,
   "id": "bf27e36b-f117-4581-ad56-99af4aad77d4",
   "metadata": {},
   "outputs": [
    {
     "data": {
      "image/png": "[encoded data removed]",
      "text/plain": [
       "<Figure size 1000x800 with 2 Axes>"
      ]
     },
     "metadata": {},
     "output_type": "display_data"
    }
   ],
   "source": [
    "plt.subplots(figsize = (10,8))\n",
    "sns.heatmap(corr_matrix, annot=True, cmap='GnBu')\n",
    "plt.show()"
   ]
  },
  {
   "cell_type": "code",
   "execution_count": 89,
   "id": "71b9905d-9679-4489-b534-8d3da86e3c70",
   "metadata": {},
   "outputs": [
    {
     "data": {
      "text/plain": [
       "Index(['PM2.5', 'PM10', 'NO2', 'SO2', 'O3', 'AQI'], dtype='object')"
      ]
     },
     "execution_count": 89,
     "metadata": {},
     "output_type": "execute_result"
    }
   ],
   "source": [
    "data.columns"
   ]
  },
  {
   "cell_type": "code",
   "execution_count": 90,
   "id": "ad0e98e3-513f-49e2-bc4c-6b69d7c8e332",
   "metadata": {},
   "outputs": [
    {
     "data": {
      "text/html": [
       "<div>\n",
       "<style scoped>\n",
       "    .dataframe tbody tr th:only-of-type {\n",
       "        vertical-align: middle;\n",
       "    }\n",
       "\n",
       "    .dataframe tbody tr th {\n",
       "        vertical-align: top;\n",
       "    }\n",
       "\n",
       "    .dataframe thead th {\n",
       "        text-align: right;\n",
       "    }\n",
       "</style>\n",
       "<table border=\"1\" class=\"dataframe\">\n",
       "  <thead>\n",
       "    <tr style=\"text-align: right;\">\n",
       "      <th></th>\n",
       "      <th>Models:</th>\n",
       "      <th>MSE:</th>\n",
       "      <th>R2</th>\n",
       "    </tr>\n",
       "  </thead>\n",
       "  <tbody>\n",
       "  </tbody>\n",
       "</table>\n",
       "</div>"
      ],
      "text/plain": [
       "Empty DataFrame\n",
       "Columns: [Models:, MSE:, R2]\n",
       "Index: []"
      ]
     },
     "execution_count": 90,
     "metadata": {},
     "output_type": "execute_result"
    }
   ],
   "source": [
    "result = {'Models:' : [],\n",
    "          'MSE:' : [],\n",
    "          'R2' : []\n",
    "        }\n",
    "result_dt = pd.DataFrame(result)\n",
    "result_dt"
   ]
  },
  {
   "cell_type": "code",
   "execution_count": 91,
   "id": "73c5665a-8eb6-4703-aed7-a215d70409fd",
   "metadata": {},
   "outputs": [],
   "source": [
    "from sklearn.model_selection import train_test_split"
   ]
  },
  {
   "cell_type": "code",
   "execution_count": 92,
   "id": "3f5f88d5-c54e-4749-9f27-7c618fcf46d9",
   "metadata": {},
   "outputs": [],
   "source": [
    "x = data.drop(['AQI'], axis = 1)\n",
    "y = data['AQI']"
   ]
  },
  {
   "cell_type": "code",
   "execution_count": 93,
   "id": "1518715d-9305-4425-b697-08901d449668",
   "metadata": {},
   "outputs": [],
   "source": [
    "x_train, x_test, y_train, y_test = train_test_split(x,y,test_size = 0.25,random_state=42)"
   ]
  },
  {
   "cell_type": "code",
   "execution_count": 94,
   "id": "47c5baf2-092a-4bb9-9ae6-5546fc197b05",
   "metadata": {},
   "outputs": [],
   "source": [
    "from sklearn.linear_model import LinearRegression\n",
    "lr = LinearRegression()\n",
    "lr.fit(x_train, y_train)\n",
    "\n",
    "pred1 = lr.predict(x_test)"
   ]
  },
  {
   "cell_type": "code",
   "execution_count": 95,
   "id": "7bc209d8-c86e-46c3-83d1-1cc990005531",
   "metadata": {},
   "outputs": [
    {
     "name": "stdout",
     "output_type": "stream",
     "text": [
      "Mean_Squared_Error: 517.1987541376384\n",
      "R = Squared Value:  0.931735886835057\n"
     ]
    }
   ],
   "source": [
    "from sklearn.metrics import mean_squared_error, r2_score\n",
    "print('Mean_Squared_Error:', mean_squared_error(y_test, pred1))\n",
    "print('R = Squared Value: ', r2_score(y_test, pred1) )"
   ]
  },
  {
   "cell_type": "code",
   "execution_count": 96,
   "id": "5655ee97-1755-4aae-8ec2-89c2ff73f0f3",
   "metadata": {},
   "outputs": [],
   "source": [
    "result_dt.loc[len(result_dt)] = [\"Linear Regression\", mean_squared_error(y_test, pred1), r2_score(y_test, pred1)]"
   ]
  },
  {
   "cell_type": "code",
   "execution_count": 97,
   "id": "0e0f6414-1ca0-4d0e-a7f1-a4b24bc1c923",
   "metadata": {},
   "outputs": [],
   "source": [
    "from sklearn.preprocessing import PolynomialFeatures\n",
    "poly = PolynomialFeatures(degree = 2)\n",
    "\n",
    "x_train_poly = poly.fit_transform(x_train)\n",
    "x_test_poly = poly.fit_transform(x_test)\n",
    "\n",
    "lr = LinearRegression()\n",
    "lr.fit(x_train_poly, y_train)\n",
    "\n",
    "pred2 = lr.predict(x_test_poly)"
   ]
  },
  {
   "cell_type": "code",
   "execution_count": 98,
   "id": "bcc99bbe-627a-4b68-893f-6791de1bdced",
   "metadata": {},
   "outputs": [
    {
     "name": "stdout",
     "output_type": "stream",
     "text": [
      "Mean_Squared_Error: 343.241751331252\n",
      "R = Squared Value:  0.9546961519756982\n"
     ]
    }
   ],
   "source": [
    "print('Mean_Squared_Error:', mean_squared_error(y_test, pred2))\n",
    "print('R = Squared Value: ', r2_score(y_test, pred2) )"
   ]
  },
  {
   "cell_type": "code",
   "execution_count": 99,
   "id": "72e1a865-cfd2-45fd-b6e0-e0dc3d46a5fa",
   "metadata": {},
   "outputs": [],
   "source": [
    "result_dt.loc[len(result_dt)] = [\"Polynomial Regression\", mean_squared_error(y_test, pred2), r2_score(y_test, pred2)]"
   ]
  },
  {
   "cell_type": "code",
   "execution_count": 100,
   "id": "b3e098cd-9851-4172-afc0-97279a225d19",
   "metadata": {},
   "outputs": [],
   "source": [
    "from sklearn.ensemble import RandomForestRegressor\n",
    "\n",
    "rf_model = RandomForestRegressor()\n",
    "rf_model.fit(x_train, y_train)\n",
    "\n",
    "pred3 = rf_model.predict(x_test)"
   ]
  },
  {
   "cell_type": "code",
   "execution_count": 101,
   "id": "2a7cebe3-aef9-491c-8ea8-33c11d588f24",
   "metadata": {},
   "outputs": [
    {
     "name": "stdout",
     "output_type": "stream",
     "text": [
      "Mean_Squared_Error: 204.7776798170959\n",
      "R = Squared Value:  0.972971770336151\n"
     ]
    }
   ],
   "source": [
    "print('Mean_Squared_Error:', mean_squared_error(y_test, pred3))\n",
    "print('R = Squared Value: ', r2_score(y_test, pred3) )"
   ]
  },
  {
   "cell_type": "code",
   "execution_count": 102,
   "id": "140c6abb-052d-407a-96d4-f59a3bde8274",
   "metadata": {},
   "outputs": [],
   "source": [
    "result_dt.loc[len(result_dt)] = [\"Random Forest Regressor\", mean_squared_error(y_test, pred3), r2_score(y_test, pred3)]"
   ]
  },
  {
   "cell_type": "code",
   "execution_count": 103,
   "id": "f77efe3f-e2e6-4a3f-ae31-12c903b0f907",
   "metadata": {},
   "outputs": [],
   "source": [
    "from sklearn.linear_model import Lasso\n",
    "\n",
    "lasso = Lasso(alpha=0.1) \n",
    "\n",
    "lasso.fit(x_train, y_train)\n",
    "pred4 = lasso.predict(x_test)"
   ]
  },
  {
   "cell_type": "code",
   "execution_count": 104,
   "id": "9dbcf025-176a-4e4e-8079-14ef2af13c91",
   "metadata": {},
   "outputs": [
    {
     "name": "stdout",
     "output_type": "stream",
     "text": [
      "Mean_Squared_Error: 517.2095911424973\n",
      "R = Squared Value:  0.9317344564786996\n"
     ]
    }
   ],
   "source": [
    "print('Mean_Squared_Error:', mean_squared_error(y_test, pred4))\n",
    "print('R = Squared Value: ', r2_score(y_test, pred4) )"
   ]
  },
  {
   "cell_type": "code",
   "execution_count": 105,
   "id": "a8be825b-e1d3-41cf-92fb-95b778cb7d9c",
   "metadata": {},
   "outputs": [],
   "source": [
    "result_dt.loc[len(result_dt)] = [\"Lasso Regression\", mean_squared_error(y_test, pred4), r2_score(y_test, pred4)]"
   ]
  },
  {
   "cell_type": "code",
   "execution_count": 106,
   "id": "dd1a9ac9-cef4-4664-a713-3184dfa78ad7",
   "metadata": {},
   "outputs": [],
   "source": [
    "from sklearn.linear_model import Ridge\n",
    "\n",
    "ridge = Ridge(alpha=1.0)\n",
    "\n",
    "ridge.fit(x_train, y_train)\n",
    "pred5 = ridge.predict(x_test)"
   ]
  },
  {
   "cell_type": "code",
   "execution_count": 107,
   "id": "9c868952-5cea-466c-ba60-2dd083ff1f91",
   "metadata": {},
   "outputs": [
    {
     "name": "stdout",
     "output_type": "stream",
     "text": [
      "Mean_Squared_Error: 517.1987708371038\n",
      "R = Squared Value:  0.9317358846309254\n"
     ]
    }
   ],
   "source": [
    "print('Mean_Squared_Error:', mean_squared_error(y_test, pred5))\n",
    "print('R = Squared Value: ', r2_score(y_test, pred5) )"
   ]
  },
  {
   "cell_type": "code",
   "execution_count": 108,
   "id": "6d179e88-5397-4812-b965-ba67289e062d",
   "metadata": {},
   "outputs": [],
   "source": [
    "result_dt.loc[len(result_dt)] = [\"Ridge Regression\", mean_squared_error(y_test, pred5), r2_score(y_test, pred5)]"
   ]
  },
  {
   "cell_type": "code",
   "execution_count": 109,
   "id": "379e3eec-a21a-4d11-ab3a-8e27c80526d9",
   "metadata": {},
   "outputs": [],
   "source": [
    "from sklearn.preprocessing import StandardScaler\n",
    "std_scaler = StandardScaler()\n",
    "X1 = std_scaler.fit_transform(x)\n",
    "X1 = pd.DataFrame(X1)"
   ]
  },
  {
   "cell_type": "code",
   "execution_count": 110,
   "id": "b530a473-1bbf-42fb-b2b5-d7726c9b5923",
   "metadata": {},
   "outputs": [],
   "source": [
    "from sklearn.model_selection import train_test_split\n",
    "x1_train, x1_test, y_train, y_test = train_test_split(X1,y,test_size = 0.25, random_state=42)"
   ]
  },
  {
   "cell_type": "code",
   "execution_count": 111,
   "id": "32f9e92c-a782-4f02-bee9-1e49e502ed4b",
   "metadata": {},
   "outputs": [],
   "source": [
    "from sklearn.linear_model import LinearRegression\n",
    "lr = LinearRegression()\n",
    "lr.fit(x1_train, y_train)\n",
    "\n",
    "y_pred1 = lr.predict(x1_test)"
   ]
  },
  {
   "cell_type": "code",
   "execution_count": 112,
   "id": "ebb9815a-d55e-42e9-b561-31666729f414",
   "metadata": {},
   "outputs": [
    {
     "name": "stdout",
     "output_type": "stream",
     "text": [
      "Mean_Squared_Error: 517.198754137638\n",
      "R = Squared Value:  0.9317358868350571\n"
     ]
    }
   ],
   "source": [
    "from sklearn.metrics import mean_squared_error, r2_score\n",
    "print('Mean_Squared_Error:', mean_squared_error(y_test, y_pred1))\n",
    "print('R = Squared Value: ', r2_score(y_test, y_pred1) )"
   ]
  },
  {
   "cell_type": "code",
   "execution_count": 113,
   "id": "88639842-1f5c-40c0-8edb-097eb7c82361",
   "metadata": {},
   "outputs": [],
   "source": [
    "from sklearn.preprocessing import MinMaxScaler\n",
    "min_max_scaler = MinMaxScaler(feature_range = (0,1))\n",
    "X2 = min_max_scaler.fit_transform(x)\n",
    "X2 = pd.DataFrame(X2)\n",
    "\n",
    "from sklearn.model_selection import train_test_split\n",
    "x2_train, x2_test, y_train, y_test = train_test_split(X2,y,test_size = 0.25, random_state=42)\n",
    "\n",
    "from sklearn.linear_model import LinearRegression\n",
    "lr = LinearRegression()\n",
    "lr.fit(x2_train, y_train)\n",
    "\n",
    "y_pred2 = lr.predict(x2_test)"
   ]
  },
  {
   "cell_type": "code",
   "execution_count": 114,
   "id": "893804e1-5f55-4123-9007-44afe08ade45",
   "metadata": {},
   "outputs": [
    {
     "name": "stdout",
     "output_type": "stream",
     "text": [
      "Mean_Squared_Error: 517.1987541376385\n",
      "R = Squared Value:  0.931735886835057\n"
     ]
    }
   ],
   "source": [
    "from sklearn.metrics import mean_squared_error, r2_score\n",
    "print('Mean_Squared_Error:', mean_squared_error(y_test, y_pred2))\n",
    "print('R = Squared Value: ', r2_score(y_test, y_pred2) )"
   ]
  },
  {
   "cell_type": "code",
   "execution_count": 115,
   "id": "47a313f9-ab29-4a03-9e09-c4ec23c828e4",
   "metadata": {},
   "outputs": [],
   "source": [
    "from sklearn.preprocessing import normalize\n",
    "X3 = normalize(x)\n",
    "type(X3)\n",
    "X3=pd.DataFrame(X3)\n",
    "\n",
    "from sklearn.model_selection import train_test_split\n",
    "x3_train, x3_test, y_train, y_test = train_test_split(X3,y,test_size = 0.25, random_state=42)\n",
    "\n",
    "from sklearn.linear_model import LinearRegression\n",
    "lr = LinearRegression()\n",
    "lr.fit(x3_train, y_train)\n",
    "\n",
    "y_pred3 = lr.predict(x3_test)"
   ]
  },
  {
   "cell_type": "code",
   "execution_count": 116,
   "id": "10014e26-4427-40fd-a7b5-62af07a5e716",
   "metadata": {},
   "outputs": [
    {
     "name": "stdout",
     "output_type": "stream",
     "text": [
      "Mean_Squared_Error: 2727.931965531015\n",
      "R = Squared Value:  0.6399452726606587\n"
     ]
    }
   ],
   "source": [
    "from sklearn.metrics import mean_squared_error, r2_score\n",
    "print('Mean_Squared_Error:', mean_squared_error(y_test, y_pred3))\n",
    "print('R = Squared Value: ', r2_score(y_test, y_pred3) )"
   ]
  },
  {
   "cell_type": "code",
   "execution_count": 117,
   "id": "e55a7341-f896-4688-874e-293a277db733",
   "metadata": {},
   "outputs": [
    {
     "data": {
      "text/html": [
       "<div>\n",
       "<style scoped>\n",
       "    .dataframe tbody tr th:only-of-type {\n",
       "        vertical-align: middle;\n",
       "    }\n",
       "\n",
       "    .dataframe tbody tr th {\n",
       "        vertical-align: top;\n",
       "    }\n",
       "\n",
       "    .dataframe thead th {\n",
       "        text-align: right;\n",
       "    }\n",
       "</style>\n",
       "<table border=\"1\" class=\"dataframe\">\n",
       "  <thead>\n",
       "    <tr style=\"text-align: right;\">\n",
       "      <th></th>\n",
       "      <th>Models:</th>\n",
       "      <th>MSE:</th>\n",
       "      <th>R2</th>\n",
       "    </tr>\n",
       "  </thead>\n",
       "  <tbody>\n",
       "    <tr>\n",
       "      <th>0</th>\n",
       "      <td>Linear Regression</td>\n",
       "      <td>517.198754</td>\n",
       "      <td>0.931736</td>\n",
       "    </tr>\n",
       "    <tr>\n",
       "      <th>1</th>\n",
       "      <td>Polynomial Regression</td>\n",
       "      <td>343.241751</td>\n",
       "      <td>0.954696</td>\n",
       "    </tr>\n",
       "    <tr>\n",
       "      <th>2</th>\n",
       "      <td>Random Forest Regressor</td>\n",
       "      <td>204.777680</td>\n",
       "      <td>0.972972</td>\n",
       "    </tr>\n",
       "    <tr>\n",
       "      <th>3</th>\n",
       "      <td>Lasso Regression</td>\n",
       "      <td>517.209591</td>\n",
       "      <td>0.931734</td>\n",
       "    </tr>\n",
       "    <tr>\n",
       "      <th>4</th>\n",
       "      <td>Ridge Regression</td>\n",
       "      <td>517.198771</td>\n",
       "      <td>0.931736</td>\n",
       "    </tr>\n",
       "  </tbody>\n",
       "</table>\n",
       "</div>"
      ],
      "text/plain": [
       "                   Models:        MSE:        R2\n",
       "0        Linear Regression  517.198754  0.931736\n",
       "1    Polynomial Regression  343.241751  0.954696\n",
       "2  Random Forest Regressor  204.777680  0.972972\n",
       "3         Lasso Regression  517.209591  0.931734\n",
       "4         Ridge Regression  517.198771  0.931736"
      ]
     },
     "execution_count": 117,
     "metadata": {},
     "output_type": "execute_result"
    }
   ],
   "source": [
    "result_dt"
   ]
  },
  {
   "cell_type": "code",
   "execution_count": null,
   "id": "c9e6c51b",
   "metadata": {},
   "outputs": [],
   "source": [
    "import pickle\n",
    "\n",
    "# Save model to a file\n",
    "with open('rf_model.pkl', 'wb') as f:\n",
    "    pickle.dump(rf_model, f)"
   ]
  }
 ],
 "metadata": {
  "kernelspec": {
   "display_name": "Python 3 (ipykernel)",
   "language": "python",
   "name": "python3"
  },
  "language_info": {
   "codemirror_mode": {
    "name": "ipython",
    "version": 3
   },
   "file_extension": ".py",
   "mimetype": "text/x-python",
   "name": "python",
   "nbconvert_exporter": "python",
   "pygments_lexer": "ipython3",
   "version": "3.12.7"
  }
 },
 "nbformat": 4,
 "nbformat_minor": 5
}
